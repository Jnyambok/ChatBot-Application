{
 "cells": [
  {
   "cell_type": "code",
   "execution_count": 3,
   "id": "9ffcf892",
   "metadata": {},
   "outputs": [],
   "source": [
    "import os\n",
    "import time\n",
    "from dotenv import load_dotenv\n",
    "from langchain_text_splitters import CharacterTextSplitter\n",
    "from pinecone import Pinecone\n",
    "#from langchain.document_loaders import TextLoader\n",
    "#from langchain.embeddings import HuggingFaceEmbeddings\n",
    "\n",
    "##loading embeddings to Pinecone\n",
    "#from langchain.vectorstores import Pinecone"
   ]
  },
  {
   "cell_type": "code",
   "execution_count": 4,
   "id": "71381929",
   "metadata": {},
   "outputs": [],
   "source": [
    "load_dotenv()\n",
    "key = os.getenv(\"PINECONE_API_KEY\")\n",
    "pc = Pinecone(api_key=key)\n",
    "# name cannot be underscore\n",
    "index_name = \"chatbot-demo\""
   ]
  },
  {
   "cell_type": "code",
   "execution_count": 5,
   "id": "1da4c643",
   "metadata": {},
   "outputs": [
    {
     "name": "stdout",
     "output_type": "stream",
     "text": [
      "Pinecone Index Already provisioned\n"
     ]
    }
   ],
   "source": [
    "##2.Loading the embeddings to our PineCone Client\n",
    "\n",
    "\n",
    "#3.checking if index exists\n",
    "if not pc.has_index(index_name):\n",
    "    pc.create_index_for_model(\n",
    "        name = index_name,\n",
    "        cloud = \"aws\",\n",
    "        region = \"us-east-1\",\n",
    "        embed = {\n",
    "            \"model\" : \"llama-text-embed-v2\",\n",
    "            \"field_map\" : {\"text\":\"chunk_text\"}\n",
    "        }\n",
    "    )\n",
    "    while not pc.describe_index(index_name).index.status['ready']:\n",
    "        time.sleep(1)\n",
    "    print(\"Pinecone Index provisioned\")\n",
    "else:\n",
    "    print(\"Pinecone Index Already provisioned\")"
   ]
  },
  {
   "cell_type": "code",
   "execution_count": 6,
   "id": "f6377c04",
   "metadata": {},
   "outputs": [
    {
     "data": {
      "text/plain": [
       "[Document(metadata={'source': './sample.txt'}, page_content='There Was an Idea\\nThe Avengers Initiative was the brainchild of S.H.I.E.L.D. Director Nick Fury. He first approached Tony Stark with the idea, following Tonyâ€™s defeat of Obadiah Stane and his subsequent public announcement that he was Iron Man. Fury kept his eye on several potential members, as Bruce Banner struggled with life as the Hulk, the Asgardian Thor appeared on Earth, and Steve Rogers, AKA World War II hero Captain America, was discovered alive decades after his apparent death. In the meantime, some of S.H.I.E.L.D.â€™s most skilled members, Black Widow (Natasha Romanoff), and Hawkeye (Clint Barton), were making a name for themselves and impressing Fury.\\n\\nOnce the Asgardian trickster god Loki arrived on Earth and absconded with the massively powerful object known as the Tesseractâ€”possessing Hawkeye and turning him into his brainwashed pawn in the processâ€”Fury found it necessary to finally bring together his potential super team, calling in Romanoff, Banner, Rogers and Stark. Captain America and Iron Man, assisted by Black Widow, were able to capture Loki, but during their flight back to S.H.I.E.L.D., Thor arrived, attempting to bring his brother back to Asgard to face justice. A fight ensued between Thor and Iron Man, but Captain America broke it up, and the group all returned with their prisoner, Loki, to the S.H.I.E.L.D. Helicarrier.\\nWhile Stark and Banner found some common ground through their love of science, the would-be team were at odds as they discussed their next course of action, and arguments escalated in the wake of discovering that S.H.I.E.L.D. had been using the Tesseract to recreate dangerous HYDRA weapons.\\n\\nLoki revealed that it was his plan to be captured all along and triggered Banner to turn into the Hulk. While engaging in a fight with Thor, Hulk nearly destroyed the Helicarrier, before crashing down to Earth. Escaping in the chaos, Loki then ejected Thor from the Helicarrier in his own enclosed cell and retrieved his scepter, killing Phil Coulson with it. Black Widow fought Hawkeye, who had arrived to help Loki, managing to bring her friend back to his true self in the process. Loki continued on to New York where, with the help of the brainwashed Dr. Erik Selvig, he opened a portal into space, unleashing a devastating Chitauri army.\\n\\nMotivated by the tragic death of Phil Coulson, Iron Man, Black Widow, Captain America, and Hawkeye all headed to New York to fight Loki and his invading Chitauri forces, and were soon joined again by Thor and Hulk, with the six heroes truly assembling as the Avengers for the first time.\\nWhile brought together thanks to a long-term plan by S.H.I.E.L.D. Director Nick Fury, the Avengers operate independently upon their formation, working with S.H.I.E.L.D., but not answering to them or any other government agency. In the wake of the revelation that S.H.I.E.L.D. had been infiltrated by HYDRA, the Avengers arguably become even more independent, as Tony Stark continues to provide them with their equipment, resources, and staff. The team also relocates from Avengers Tower (originally Stark Tower) in Manhattan to a Stark-owned facility in upstate New York.\\n\\nFollowing devastation wrought by the Super Villain Ultron, the Avengers add more members to its roster, including Sam Wilson AKA Falcon, Wanda Maximoff AKA Scarlet Witch, the android Vision, and James Rhodes AKA War Machine.\\nThe Sokovia Accords call for the Avengers to begin answering to the United Nations, who would have a say in what missions they undertake and which parts of the world they could operate in. Under Iron Manâ€™s leadership, some of the Avengers briefly operate under these guidelines, as they seek to halt the dissenting Captain Americaâ€™s rogue actions, along with the Avengers who fight with him. With Iron Man and Captain Americaâ€™s conflict escalating and left unresolved, the Avengers effectively break upâ€”though Stark, War Machine (James Rhodes) and Vision still operate out of Avengers headquarters, there is no longer an ongoing team.\\n\\nThe reunion of many Avengers during Thanosâ€™ attack on Earth, including Steve Rogers, finds the team operating on their own again and against the wishes of the government, as Rhodes disobeys direct orders from Thaddeus Ross to arrest fugitives Rogers, Wanda Maximoff, Natasha Romanoff, and Sam Wilson.\\nThe Avengersâ€™ first-ever adversary is the Asgardian god of mischief, Loki, who attempts to rule the Earth, aided by an invading Chitauri army. Loki was, in fact, working at the behest of the Mad Titan, Thanos, who would formulate new plans in the wake of Lokiâ€™s defeat.\\n\\nAfter Captain America discovers that HYDRA had infiltrated S.H.I.E.L.D. to its very core, the Avengers reassembled to help hunt down and neutralize remaining HYDRA factions, bringing them into conflict with Wolfgang von Strucker and two enhanced subjects, Wanda and Pietro Maximoff, AKA Quicksilver and the Scarlet Witch. Motivated by feelings of vengeance towards Tony Stark, the Maximoff twins would fight the Avengers before ultimately siding with the heroes. </p>\\n\\nThe result of a botched attempt by Tony Stark and Bruce Banner to create a peacekeeping entity, the robot known as Ultron would attempt to eliminate humanity, creating an army of sentries to face the Avengers. Ultronâ€™s attack on the country of Sokovia, and the deaths caused as the Avengers battled to stop him, would lead Helmut Zemo to seek to destroy the Avengers from within.\\nWith Thanos deciding to get personally involved in his quest to eliminate half of all life in the universe, the Avengers would face the Titan himself and his closest allies, the Children of Thanos, and the massive army he had brought to Earth to take the last of the Infinity Stones.\\nNick Fury originally brings the Avengers together and the team forms a close relationship with the S.H.I.E.L.D. Director, along with agents Phil Coulson and Maria Hillâ€”with Coulsonâ€™s death proving instrumental in uniting the initially squabbling heroes together.\\nGeneticist Dr. Helen Cho provides the Avengers with support, and though it was under the sway of Ultron and Scarlet Witch (before the latter switched sides), Cho was instrumental in helping create the future Avenger known as Vision. Thorâ€™s friend Dr. Erik Selvig was used by Loki to help him, but ultimately assists the Avengers, including helping set up their second headquarters in upstate New York. While never officially joining the Avengers before his untimely death, Quicksilver fights alongside the team against Ultron in Sokovia.\\n\\nAfter the destruction of Sokovia and a deadly mishap in Lagos, the Avengers become split over the Sokovia Accords. Though not officially working as an Avenger at this point, Captain America is helped not only by fellow Avengers Hawkeye, Falcon, and Scarlet Witch, but also by Ant-Man (Scott Lang) and Bucky Barnes. In the meantime, Iron Man, still officially sanctioned, is assisted by teammates Vision, War Machine, and Black Widow, as well as Wakandaâ€™s Prince Tâ€™Challa, the Black Panther, and Spider-Man (Peter Parker).\\nMany former members of the Avengers reunite to battle Thanosâ€™ army, and are joined by Barnes, Tâ€™Challa, Okoye, Mâ€™Baku, Shuri, and the united forces of Wakanda. While ostensibly operating on his own, and not with the Avengers, Tony Stark, while traveling into space to face Thanos, declares the accompanying Spider-Man now an Avenger, while joining forces with Doctor Strange and Guardians of the Galaxy members Star-Lord, Mantis, and Drax. Two other Guardians, Groot and Rocket, also come to the aid of the Avengers members in Wakanda.\\n\\nShowing Initiative\\nAs the Avengers valiantly fought against the Chitauri, Fury assured the World Security Council that the new team could handle the situation in New York, but the Council wanted to nuke New York to prevent the potential spread of an invasion. They launched a missile, which was re-directed by Iron Man into the wormhole opened by Loki. The bomb detonated in outer space, destroying the Chitauri hive mind, while Stark passed out and began to plummet to Earth, only to be saved by the Hulk. After their victory, and with Loki taken into custody, the Avengers enjoyed some shawarma together. Soon after, Loki was taken back to Asgard by Thor to stand trial for his crimes, and the team went their separate waysâ€”though Stark was motivated to begin turning his tower in Manhattan into Avengers Tower, which could function as the teamâ€™s headquarters.\\n\\nSometime later, Captain America, Black Widow and Falcon discovered that S.H.I.E.L.D. had been infiltrated from the start, and to its very core, by HYDRA, leading them to destroy S.H.I.E.L.D. completely alongside Nick Fury and Maria Hill. In the wake of this, Fury would go into hidingâ€”presumed dead by the worldâ€”while Hill would go to work for Stark.\\n\\nThe Avengers, with Avengers Tower as their base of operations, reunited, with the team going on missions to track down and neutralize remaining HYDRA factions. HYDRA leader Wolfgang von Strucker had by this point gained possession of Lokiâ€™s scepter and used it to turn siblings Wanda and Pietro Maximoff into super powered operatives known as Scarlet Witch and Quicksilver. The Avengers raided his facility and took back the scepter, while the Maximoff twins escaped.\\nBack at Avengers Tower, Stark and Banner, hoping to create a preemptive defense system that would make the Avengers obsolete, used the scepterâ€™s power and a program theyâ€™d been developing - only to inadvertently create a homicidal robot, Ultron, who was hellbent on destroying all life on Earth. Following his emergence from Avengers Tower, Ultron then recruited the Maximoff siblings, who blamed Tony Stark for the death of their parents, after they were killed by a missile Stark created, to sow discord among the Avengers.\\n\\nUltron created the perfect body for himself with the Mind Stoneâ€”previously hidden inside Lokiâ€™s scepterâ€”embedded in his forehead. Ultron was thwarted from uploading his consciousness into the body thanks to Wanda, who realized, just in time, his intention to kill every human being on the planet. Instead, with the Avengers retrieving the body themselves, Thor helped bring it to life inhabited not by Ultron, but by the reconceptualization of Tonyâ€™s AI, JARVIS. Thus, Vision was born, proving to the skeptical Avengers that his intentions were pure when he was the first one among them, save Thor himself, who was fully capable of lifting Thorâ€™s hammer.\\nBack in Sokovia, Ultron caused the countryâ€™s capital city to fly up into the sky, intending to create a global extinction event by sending the city smashing back to the ground. With Vision, Scarlet Witch, and Quicksilver fighting by their side, the Avengers arrived, taking down hordes of Ultron drones, while attempting to get as many civilians to safety as they couldâ€”eventually aided by War Machine and Nick Fury, Maria Hill, and other former S.H.I.E.L.D. agents whose Helicarrier was invaluable in getting Sokovians off the floating city. The majority of Sokovians were rescued, even as the Avengers were forced to blow up the city in order to save the Earth. Ultron, in the meantime, was stopped completely, as all of his sentries were destroyed, with Vision taking out the final robot before it could escape.\\nThe aftermath of this battle created a lot of changes to the Avengers roster. Although he might have joined, Pietro was killed in the battle protecting Hawkeye. Hulk decided to fly off in the Avengersâ€™ Quinjet after helping in the fight, rather than rejoin the team. Thor returned to the cosmos to investigate the unsettling number of events involving Infinity Stones, while Tony Stark decided to take a step back from the team.\\n\\nNow working out of a new headquarters owned by Stark in upstate New York, Captain America and Black Widow formed a second incarnation of the Avengers, comprised of the two of them and new recruits Vision, Scarlet Witch, Falcon, and War Machine.\\n\\nDuring a mission in Lagos to stop Crossbones (Brock Rumlow), Scarlet Witch, acting to save Captain America when Rumlow set off an explosive device intended to kill both himself and Cap, used her powers to send the explosive hurtling into the airâ€”accidently killing several Wakandan humanitarian workers when the explosion hit the building they were in. Wracked with guilt over this event and others, Tony, working with Secretary of State Thaddeus Ross, backed the introduction of the Sokovia Accords. Agreed upon by the United Nations, the Accordsâ€™ purpose was to create oversight when it comes to the actions of the Avengers, meaning a UN panel would be able to control what missions they took and what parts of the world they traveled to.\\nThe Accords caused a major rift between Tony and Steve Rogers, who strongly opposed them. Both recruited heroes to their sides after Rogers old friend, Bucky Barnes, was framed for the bombing of the Accords ratification summit, which resulted in the death of Wakandaâ€™s king, Tâ€™Chaka. The situation escalated, as Rogers was actively helping a wanted criminal avoid the authorities, made worse by Barnesâ€™ past as the brainwashed HYDRA assassin called the Winter Soldier, whose body count was infamous long before the UN summit was bombed.\\n Standing with Stark to bring in Rogers, Barnes, and their allies were Rhodes, Vision, and Romanoff, while Wakandaâ€™s Prince Tâ€™Challa, the Black Panther, and Spider-Man (Peter Parker), were also recruited to help. Rogers and Barnes were joined in their fight by fellow Avengers Falcon, Hawkeye and Scarlet Witch, along with Ant-Man. (Scott Lang) The two teams had a ferocious fight at an airport in Berlin, which culminated in Rogers and Barnesâ€™ escaping thanks to an assist by Romanoff, who switched sides, while Rhodes was badly injured by a miscalculated shot from his teammate, Vision.\\n Rogers and Barnes learned the true culprit behind the bombing was Sokovian intelligence officer Helmut Zemo, tracking him to a HYDRA base in Siberia. Stark also learned Zemo was responsible, and briefly teamed with Rogers and Barnes to bring him inâ€”only for Zemo to reveal to Stark that Bucky, while brainwashed and operating on HYDRAâ€™s orders, had killed Tonyâ€™s parents. Having learned both the shocking circumstances of his parentsâ€™ death, and that Rogers had already known this, but kept the truth from him, Tony was unable to contain his rage. Iron Man engaged in a vicious fight with Captain America and Bucky, ending with Iron Manâ€™s defeat and Captain America and Buckyâ€™s escape, while Black Panther stopped Zemo from killing himself and took him into custody.\\n Shortly after, Rogers would break his friends and allies Maximoff, Barton, Lang, and Wilson out of confinement in the prison called the Raft. While Lang and Barton, not willing to be away from their families, would accept deals and go under house arrest, Rogers, Maximoff, and Wilson would go on the run as fugitives. They were joined by Romanoff, now also wanted for her betrayal of Starkâ€™s team in Berlin.\\n\\nStark, Vision, and Rhodesâ€”learning to use a device from Stark in order to walk again following his injuryâ€”still occupied Avengers headquarters. Although there was no longer an ongoing Avengers team in operation, Stark offered Parker Avengers membership, which the young man declined. Rogers, in the meantime, sent Stark a note about how sorry he was about what had occurred, along with a phone that could be used to reach him in an emergency.\\n\\nAs time went on, Vision and Scarlet Witch began secretly seeing each other, exploring a potential romance. In New York, Bruce Banner returned to Earth after years off-planet, warning the sorcerers Doctor Strange and Wong about the impending threat of Thanos, after he witnessed the massacre of the Asgardian refugees.\\nTony Stark was brought to Strangeâ€™s sanctum, learning more about Thanosâ€™ plan to assemble all six Infinity Stones to wipe out half of all life in the universe. When Thanosâ€™ agents came for the Time Stone that Strange possessed, Strange was taken onboard their ship, with Iron Man and Spider-Man, who had come to help, both stowing away on the ship. Freeing Strange from captivity, Iron Man declared Spider-Man was now officially an Avenger, as the trio traveled to Thanosâ€™ long dead home planet of Titan, where they encountered Guardians of the Galaxy members Star-Lord, Mantis, and Drax.\\n\\nOn Earth, Banner used Starkâ€™s phone, dropped during the confrontation over the Time Stone, to contact Rogers. Thanks to Bannerâ€™s warning, Rogers, Romanoff and Wilson arrived to help Maximoff and Vision in Scotland, who were also under attack by two of the Children of Thanos, who sought Visionâ€™s Mind Stone. Fending them off, the former Avengers traveled back to the teamâ€™s old headquarters, where they reunited with Rhodes and Banner. Thaddeus Ross ordered Rhodes to arrest the returning\\nKnowing the Mind Stone needed to be destroyed to keep it from Thanos, a plan was devised to safely remove it from Vision first, which required the technological expertise of Wakanda. With Tâ€™Challa agreeing to help, Rogersâ€™ expanded group traveled to Wakanda and readied to fight alongside Tâ€™Challa himself, Barnes, and the mighty forces of the country, as Thanos sent an army to retrieve the Mind Stone. A massive battle broke out, with the Avengers receiving crucial aid by the timely arrival of Thor, who also finally returned to Earth, having crafted a powerful new weapon, the axe called Stormbreaker, to take down Thanos. Thor and his Guardians of the Galaxy friends Groot and Rocket helped turn the tide, with Thanosâ€™ forces beginning to crumble.\\n\\nOn Titan, Iron Man and his allies attempted to not only stop Thanos himself from personally acquiring the Time Stone, but also wrest his Infinity Gauntlet, which he was using to harness all of the stones, from his hand. Unfortunately, even with Thanosâ€™ vengeful daughter, Nebula, joining their fight, this plan would fail. When Thanos nearly killed Iron Man, Doctor Strange offered up the Time Stone in exchange for Starkâ€™s life. Thanos accepted, and traveled back to Earth.')]"
      ]
     },
     "execution_count": 6,
     "metadata": {},
     "output_type": "execute_result"
    }
   ],
   "source": [
    "from langchain.document_loaders import TextLoader,PyPDFLoader, Docx2txtLoader\n",
    "\n",
    "file_path = \"./sample.txt\"\n",
    "# Function to detect file type and load document\n",
    "def load_document(file_path):\n",
    "    # Get the file extension\n",
    "    file_extension = os.path.splitext(file_path)[1].lower()\n",
    "    \n",
    "    if file_extension == '.pdf':\n",
    "        loader = PyPDFLoader(file_path)\n",
    "    elif file_extension == '.docx':\n",
    "        loader = Docx2txtLoader(file_path)\n",
    "    elif file_extension == '.txt':\n",
    "        loader = TextLoader(file_path)\n",
    "    else:\n",
    "        raise ValueError(f\"Unsupported file type: {file_extension}\")\n",
    "    \n",
    "    return loader.load()\n",
    "\n",
    "load_document(file_path)\n"
   ]
  },
  {
   "cell_type": "code",
   "execution_count": 14,
   "id": "66eef0ad",
   "metadata": {},
   "outputs": [
    {
     "name": "stdout",
     "output_type": "stream",
     "text": [
      "Created 15 chunks\n"
     ]
    }
   ],
   "source": [
    "from langchain.text_splitter import RecursiveCharacterTextSplitter\n",
    "def split_documents(documents, chunk_size=1900,chunk_overlap=200):\n",
    "    text_splitter=RecursiveCharacterTextSplitter(\n",
    "        chunk_size = chunk_size,\n",
    "        chunk_overlap=chunk_overlap,\n",
    "        length_function=len\n",
    "\n",
    "    )\n",
    "    chunks = text_splitter.split_documents(documents)\n",
    "    return chunks\n",
    "\n",
    "documents = load_document(file_path)\n",
    "chunks = split_documents(documents)\n",
    "print(f\"Created {len(chunks)} chunks\")\n"
   ]
  },
  {
   "cell_type": "code",
   "execution_count": 17,
   "id": "b81e7d34",
   "metadata": {},
   "outputs": [
    {
     "name": "stdout",
     "output_type": "stream",
     "text": [
      "Successfully upserted 15 into Pinecone namespace: default-namespace\n"
     ]
    },
    {
     "data": {
      "text/plain": [
       "<pinecone.data.index.Index at 0x2ba90a5e710>"
      ]
     },
     "execution_count": 17,
     "metadata": {},
     "output_type": "execute_result"
    }
   ],
   "source": [
    "def upsert_to_pinecone(chunks, index_name, namespace=\"default-namespace\"):\n",
    "    dense_index = pc.Index(index_name)\n",
    "    # Prepare records: Pinecone expects a list of dicts with 'id', 'values', and optionally 'metadata'\n",
    "    # Here, we just store the text as metadata (dummy vector of correct dimension)\n",
    "    vector_dim = 1024  # must match your Pinecone index dimension\n",
    "    # Use a small non-zero value for demonstration\n",
    "    dummy_vector = [1e-6] + [0.0] * (vector_dim - 1)\n",
    "    records = [\n",
    "        {\n",
    "            \"id\": f\"doc_{i}\",\n",
    "            \"values\": dummy_vector,\n",
    "            \"metadata\": {\n",
    "                \"text\": chunk.page_content,\n",
    "                **chunk.metadata\n",
    "            }\n",
    "        }\n",
    "        for i, chunk in enumerate(chunks)\n",
    "    ]\n",
    "    dense_index.upsert(records, namespace=namespace)\n",
    "    print(f\"Successfully upserted {len(chunks)} into Pinecone namespace: {namespace}\")\n",
    "    return dense_index\n",
    "\n",
    "upsert_to_pinecone(chunks, index_name, namespace=\"default-namespace\")"
   ]
  },
  {
   "cell_type": "code",
   "execution_count": 24,
   "id": "09e43b66",
   "metadata": {},
   "outputs": [
    {
     "name": "stdout",
     "output_type": "stream",
     "text": [
      "{'dimension': 1024,\n",
      " 'index_fullness': 0.0,\n",
      " 'metric': 'cosine',\n",
      " 'namespaces': {'default-namespace': {'vector_count': 15}},\n",
      " 'total_vector_count': 15,\n",
      " 'vector_type': 'dense'}\n"
     ]
    }
   ],
   "source": [
    "# Wait for the upserted vectors to be indexed\n",
    "import time\n",
    "time.sleep(10)\n",
    "\n",
    "# View stats for the index\n",
    "stats = dense_index.describe_index_stats()\n",
    "print(stats)"
   ]
  },
  {
   "cell_type": "code",
   "execution_count": 35,
   "id": "8663cf1a",
   "metadata": {},
   "outputs": [
    {
     "name": "stdout",
     "output_type": "stream",
     "text": [
      "id: doc_13 | score: 0.0   | text: Stark, Vision, and Rhodesâ€”learning to use a device from Stark in order to walk again following his injuryâ€”still occupied Avengers headquarters. Although there was no longer an ongoing Avengers team in operation, Stark offered Parker Avengers membership, which the young man declined. Rogers, in the meantime, sent Stark a note about how sorry he was about what had occurred, along with a phone that could be used to reach him in an emergency.\n",
      "\n",
      "As time went on, Vision and Scarlet Witch began secretly seeing each other, exploring a potential romance. In New York, Bruce Banner returned to Earth after years off-planet, warning the sorcerers Doctor Strange and Wong about the impending threat of Thanos, after he witnessed the massacre of the Asgardian refugees.\n",
      "Tony Stark was brought to Strangeâ€™s sanctum, learning more about Thanosâ€™ plan to assemble all six Infinity Stones to wipe out half of all life in the universe. When Thanosâ€™ agents came for the Time Stone that Strange possessed, Strange was taken onboard their ship, with Iron Man and Spider-Man, who had come to help, both stowing away on the ship. Freeing Strange from captivity, Iron Man declared Spider-Man was now officially an Avenger, as the trio traveled to Thanosâ€™ long dead home planet of Titan, where they encountered Guardians of the Galaxy members Star-Lord, Mantis, and Drax.\n",
      "id: doc_14 | score: 0.0   | text: On Earth, Banner used Starkâ€™s phone, dropped during the confrontation over the Time Stone, to contact Rogers. Thanks to Bannerâ€™s warning, Rogers, Romanoff and Wilson arrived to help Maximoff and Vision in Scotland, who were also under attack by two of the Children of Thanos, who sought Visionâ€™s Mind Stone. Fending them off, the former Avengers traveled back to the teamâ€™s old headquarters, where they reunited with Rhodes and Banner. Thaddeus Ross ordered Rhodes to arrest the returning\n",
      "Knowing the Mind Stone needed to be destroyed to keep it from Thanos, a plan was devised to safely remove it from Vision first, which required the technological expertise of Wakanda. With Tâ€™Challa agreeing to help, Rogersâ€™ expanded group traveled to Wakanda and readied to fight alongside Tâ€™Challa himself, Barnes, and the mighty forces of the country, as Thanos sent an army to retrieve the Mind Stone. A massive battle broke out, with the Avengers receiving crucial aid by the timely arrival of Thor, who also finally returned to Earth, having crafted a powerful new weapon, the axe called Stormbreaker, to take down Thanos. Thor and his Guardians of the Galaxy friends Groot and Rocket helped turn the tide, with Thanosâ€™ forces beginning to crumble.\n",
      "\n",
      "On Titan, Iron Man and his allies attempted to not only stop Thanos himself from personally acquiring the Time Stone, but also wrest his Infinity Gauntlet, which he was using to harness all of the stones, from his hand. Unfortunately, even with Thanosâ€™ vengeful daughter, Nebula, joining their fight, this plan would fail. When Thanos nearly killed Iron Man, Doctor Strange offered up the Time Stone in exchange for Starkâ€™s life. Thanos accepted, and traveled back to Earth.\n",
      "id: doc_2 | score: 0.0   | text: Following devastation wrought by the Super Villain Ultron, the Avengers add more members to its roster, including Sam Wilson AKA Falcon, Wanda Maximoff AKA Scarlet Witch, the android Vision, and James Rhodes AKA War Machine.\n",
      "The Sokovia Accords call for the Avengers to begin answering to the United Nations, who would have a say in what missions they undertake and which parts of the world they could operate in. Under Iron Manâ€™s leadership, some of the Avengers briefly operate under these guidelines, as they seek to halt the dissenting Captain Americaâ€™s rogue actions, along with the Avengers who fight with him. With Iron Man and Captain Americaâ€™s conflict escalating and left unresolved, the Avengers effectively break upâ€”though Stark, War Machine (James Rhodes) and Vision still operate out of Avengers headquarters, there is no longer an ongoing team.\n",
      "\n",
      "The reunion of many Avengers during Thanosâ€™ attack on Earth, including Steve Rogers, finds the team operating on their own again and against the wishes of the government, as Rhodes disobeys direct orders from Thaddeus Ross to arrest fugitives Rogers, Wanda Maximoff, Natasha Romanoff, and Sam Wilson.\n",
      "The Avengersâ€™ first-ever adversary is the Asgardian god of mischief, Loki, who attempts to rule the Earth, aided by an invading Chitauri army. Loki was, in fact, working at the behest of the Mad Titan, Thanos, who would formulate new plans in the wake of Lokiâ€™s defeat.\n",
      "id: doc_3 | score: 0.0   | text: After Captain America discovers that HYDRA had infiltrated S.H.I.E.L.D. to its very core, the Avengers reassembled to help hunt down and neutralize remaining HYDRA factions, bringing them into conflict with Wolfgang von Strucker and two enhanced subjects, Wanda and Pietro Maximoff, AKA Quicksilver and the Scarlet Witch. Motivated by feelings of vengeance towards Tony Stark, the Maximoff twins would fight the Avengers before ultimately siding with the heroes. </p>\n",
      "id: doc_4 | score: 0.0   | text: The result of a botched attempt by Tony Stark and Bruce Banner to create a peacekeeping entity, the robot known as Ultron would attempt to eliminate humanity, creating an army of sentries to face the Avengers. Ultronâ€™s attack on the country of Sokovia, and the deaths caused as the Avengers battled to stop him, would lead Helmut Zemo to seek to destroy the Avengers from within.\n",
      "With Thanos deciding to get personally involved in his quest to eliminate half of all life in the universe, the Avengers would face the Titan himself and his closest allies, the Children of Thanos, and the massive army he had brought to Earth to take the last of the Infinity Stones.\n",
      "Nick Fury originally brings the Avengers together and the team forms a close relationship with the S.H.I.E.L.D. Director, along with agents Phil Coulson and Maria Hillâ€”with Coulsonâ€™s death proving instrumental in uniting the initially squabbling heroes together.\n",
      "Geneticist Dr. Helen Cho provides the Avengers with support, and though it was under the sway of Ultron and Scarlet Witch (before the latter switched sides), Cho was instrumental in helping create the future Avenger known as Vision. Thorâ€™s friend Dr. Erik Selvig was used by Loki to help him, but ultimately assists the Avengers, including helping set up their second headquarters in upstate New York. While never officially joining the Avengers before his untimely death, Quicksilver fights alongside the team against Ultron in Sokovia.\n",
      "id: doc_5 | score: 0.0   | text: After the destruction of Sokovia and a deadly mishap in Lagos, the Avengers become split over the Sokovia Accords. Though not officially working as an Avenger at this point, Captain America is helped not only by fellow Avengers Hawkeye, Falcon, and Scarlet Witch, but also by Ant-Man (Scott Lang) and Bucky Barnes. In the meantime, Iron Man, still officially sanctioned, is assisted by teammates Vision, War Machine, and Black Widow, as well as Wakandaâ€™s Prince Tâ€™Challa, the Black Panther, and Spider-Man (Peter Parker).\n",
      "Many former members of the Avengers reunite to battle Thanosâ€™ army, and are joined by Barnes, Tâ€™Challa, Okoye, Mâ€™Baku, Shuri, and the united forces of Wakanda. While ostensibly operating on his own, and not with the Avengers, Tony Stark, while traveling into space to face Thanos, declares the accompanying Spider-Man now an Avenger, while joining forces with Doctor Strange and Guardians of the Galaxy members Star-Lord, Mantis, and Drax. Two other Guardians, Groot and Rocket, also come to the aid of the Avengers members in Wakanda.\n",
      "id: doc_6 | score: 0.0   | text: Showing Initiative\n",
      "As the Avengers valiantly fought against the Chitauri, Fury assured the World Security Council that the new team could handle the situation in New York, but the Council wanted to nuke New York to prevent the potential spread of an invasion. They launched a missile, which was re-directed by Iron Man into the wormhole opened by Loki. The bomb detonated in outer space, destroying the Chitauri hive mind, while Stark passed out and began to plummet to Earth, only to be saved by the Hulk. After their victory, and with Loki taken into custody, the Avengers enjoyed some shawarma together. Soon after, Loki was taken back to Asgard by Thor to stand trial for his crimes, and the team went their separate waysâ€”though Stark was motivated to begin turning his tower in Manhattan into Avengers Tower, which could function as the teamâ€™s headquarters.\n",
      "\n",
      "Sometime later, Captain America, Black Widow and Falcon discovered that S.H.I.E.L.D. had been infiltrated from the start, and to its very core, by HYDRA, leading them to destroy S.H.I.E.L.D. completely alongside Nick Fury and Maria Hill. In the wake of this, Fury would go into hidingâ€”presumed dead by the worldâ€”while Hill would go to work for Stark.\n",
      "id: doc_7 | score: 0.0   | text: The Avengers, with Avengers Tower as their base of operations, reunited, with the team going on missions to track down and neutralize remaining HYDRA factions. HYDRA leader Wolfgang von Strucker had by this point gained possession of Lokiâ€™s scepter and used it to turn siblings Wanda and Pietro Maximoff into super powered operatives known as Scarlet Witch and Quicksilver. The Avengers raided his facility and took back the scepter, while the Maximoff twins escaped.\n",
      "Back at Avengers Tower, Stark and Banner, hoping to create a preemptive defense system that would make the Avengers obsolete, used the scepterâ€™s power and a program theyâ€™d been developing - only to inadvertently create a homicidal robot, Ultron, who was hellbent on destroying all life on Earth. Following his emergence from Avengers Tower, Ultron then recruited the Maximoff siblings, who blamed Tony Stark for the death of their parents, after they were killed by a missile Stark created, to sow discord among the Avengers.\n",
      "id: doc_11 | score: 0.0   | text: During a mission in Lagos to stop Crossbones (Brock Rumlow), Scarlet Witch, acting to save Captain America when Rumlow set off an explosive device intended to kill both himself and Cap, used her powers to send the explosive hurtling into the airâ€”accidently killing several Wakandan humanitarian workers when the explosion hit the building they were in. Wracked with guilt over this event and others, Tony, working with Secretary of State Thaddeus Ross, backed the introduction of the Sokovia Accords. Agreed upon by the United Nations, the Accordsâ€™ purpose was to create oversight when it comes to the actions of the Avengers, meaning a UN panel would be able to control what missions they took and what parts of the world they traveled to.\n",
      "The Accords caused a major rift between Tony and Steve Rogers, who strongly opposed them. Both recruited heroes to their sides after Rogers old friend, Bucky Barnes, was framed for the bombing of the Accords ratification summit, which resulted in the death of Wakandaâ€™s king, Tâ€™Chaka. The situation escalated, as Rogers was actively helping a wanted criminal avoid the authorities, made worse by Barnesâ€™ past as the brainwashed HYDRA assassin called the Winter Soldier, whose body count was infamous long before the UN summit was bombed.\n",
      " Standing with Stark to bring in Rogers, Barnes, and their allies were Rhodes, Vision, and Romanoff, while Wakandaâ€™s Prince Tâ€™Challa, the Black Panther, and Spider-Man (Peter Parker), were also recruited to help. Rogers and Barnes were joined in their fight by fellow Avengers Falcon, Hawkeye and Scarlet Witch, along with Ant-Man. (Scott Lang) The two teams had a ferocious fight at an airport in Berlin, which culminated in Rogers and Barnesâ€™ escaping thanks to an assist by Romanoff, who switched sides, while Rhodes was badly injured by a miscalculated shot from his teammate, Vision.\n",
      "id: doc_12 | score: 0.0   | text: Rogers and Barnes learned the true culprit behind the bombing was Sokovian intelligence officer Helmut Zemo, tracking him to a HYDRA base in Siberia. Stark also learned Zemo was responsible, and briefly teamed with Rogers and Barnes to bring him inâ€”only for Zemo to reveal to Stark that Bucky, while brainwashed and operating on HYDRAâ€™s orders, had killed Tonyâ€™s parents. Having learned both the shocking circumstances of his parentsâ€™ death, and that Rogers had already known this, but kept the truth from him, Tony was unable to contain his rage. Iron Man engaged in a vicious fight with Captain America and Bucky, ending with Iron Manâ€™s defeat and Captain America and Buckyâ€™s escape, while Black Panther stopped Zemo from killing himself and took him into custody.\n",
      " Shortly after, Rogers would break his friends and allies Maximoff, Barton, Lang, and Wilson out of confinement in the prison called the Raft. While Lang and Barton, not willing to be away from their families, would accept deals and go under house arrest, Rogers, Maximoff, and Wilson would go on the run as fugitives. They were joined by Romanoff, now also wanted for her betrayal of Starkâ€™s team in Berlin.\n"
     ]
    }
   ],
   "source": [
    "# Define the query\n",
    "query = \"who is vision\"\n",
    "\n",
    "# Search the dense index\n",
    "results = dense_index.search(\n",
    "    namespace=\"default-namespace\",\n",
    "    query={\n",
    "        \"top_k\": 10,\n",
    "        \"inputs\": {\n",
    "            'text': query\n",
    "        }\n",
    "    }\n",
    ")\n",
    "\n",
    "# Print the results\n",
    "for hit in results['result']['hits']:\n",
    "        print(f\"id: {hit['_id']:<5} | score: {round(hit['_score'], 2):<5} | text: {hit['fields']['text']:<50}\")\n"
   ]
  },
  {
   "cell_type": "code",
   "execution_count": 37,
   "id": "6d0cbd13",
   "metadata": {},
   "outputs": [
    {
     "name": "stdout",
     "output_type": "stream",
     "text": [
      "id: doc_4, score: 0.17, text: The result of a botched attempt by Tony Stark and Bruce Banner to create a peacekeeping entity, the robot known as Ultron would attempt to eliminate humanity, creating an army of sentries to face the Avengers. Ultronâ€™s attack on the country of Sokovia, and the deaths caused as the Avengers battled to stop him, would lead Helmut Zemo to seek to destroy the Avengers from within.\n",
      "With Thanos deciding to get personally involved in his quest to eliminate half of all life in the universe, the Avengers would face the Titan himself and his closest allies, the Children of Thanos, and the massive army he had brought to Earth to take the last of the Infinity Stones.\n",
      "Nick Fury originally brings the Avengers together and the team forms a close relationship with the S.H.I.E.L.D. Director, along with agents Phil Coulson and Maria Hillâ€”with Coulsonâ€™s death proving instrumental in uniting the initially squabbling heroes together.\n",
      "Geneticist Dr. Helen Cho provides the Avengers with support, and though it was under the sway of Ultron and Scarlet Witch (before the latter switched sides), Cho was instrumental in helping create the future Avenger known as Vision. Thorâ€™s friend Dr. Erik Selvig was used by Loki to help him, but ultimately assists the Avengers, including helping set up their second headquarters in upstate New York. While never officially joining the Avengers before his untimely death, Quicksilver fights alongside the team against Ultron in Sokovia.\n",
      "id: doc_2, score: 0.09, text: Following devastation wrought by the Super Villain Ultron, the Avengers add more members to its roster, including Sam Wilson AKA Falcon, Wanda Maximoff AKA Scarlet Witch, the android Vision, and James Rhodes AKA War Machine.\n",
      "The Sokovia Accords call for the Avengers to begin answering to the United Nations, who would have a say in what missions they undertake and which parts of the world they could operate in. Under Iron Manâ€™s leadership, some of the Avengers briefly operate under these guidelines, as they seek to halt the dissenting Captain Americaâ€™s rogue actions, along with the Avengers who fight with him. With Iron Man and Captain Americaâ€™s conflict escalating and left unresolved, the Avengers effectively break upâ€”though Stark, War Machine (James Rhodes) and Vision still operate out of Avengers headquarters, there is no longer an ongoing team.\n",
      "\n",
      "The reunion of many Avengers during Thanosâ€™ attack on Earth, including Steve Rogers, finds the team operating on their own again and against the wishes of the government, as Rhodes disobeys direct orders from Thaddeus Ross to arrest fugitives Rogers, Wanda Maximoff, Natasha Romanoff, and Sam Wilson.\n",
      "The Avengersâ€™ first-ever adversary is the Asgardian god of mischief, Loki, who attempts to rule the Earth, aided by an invading Chitauri army. Loki was, in fact, working at the behest of the Mad Titan, Thanos, who would formulate new plans in the wake of Lokiâ€™s defeat.\n",
      "id: doc_13, score: 0.08, text: Stark, Vision, and Rhodesâ€”learning to use a device from Stark in order to walk again following his injuryâ€”still occupied Avengers headquarters. Although there was no longer an ongoing Avengers team in operation, Stark offered Parker Avengers membership, which the young man declined. Rogers, in the meantime, sent Stark a note about how sorry he was about what had occurred, along with a phone that could be used to reach him in an emergency.\n",
      "\n",
      "As time went on, Vision and Scarlet Witch began secretly seeing each other, exploring a potential romance. In New York, Bruce Banner returned to Earth after years off-planet, warning the sorcerers Doctor Strange and Wong about the impending threat of Thanos, after he witnessed the massacre of the Asgardian refugees.\n",
      "Tony Stark was brought to Strangeâ€™s sanctum, learning more about Thanosâ€™ plan to assemble all six Infinity Stones to wipe out half of all life in the universe. When Thanosâ€™ agents came for the Time Stone that Strange possessed, Strange was taken onboard their ship, with Iron Man and Spider-Man, who had come to help, both stowing away on the ship. Freeing Strange from captivity, Iron Man declared Spider-Man was now officially an Avenger, as the trio traveled to Thanosâ€™ long dead home planet of Titan, where they encountered Guardians of the Galaxy members Star-Lord, Mantis, and Drax.\n",
      "id: doc_11, score: 0.03, text: During a mission in Lagos to stop Crossbones (Brock Rumlow), Scarlet Witch, acting to save Captain America when Rumlow set off an explosive device intended to kill both himself and Cap, used her powers to send the explosive hurtling into the airâ€”accidently killing several Wakandan humanitarian workers when the explosion hit the building they were in. Wracked with guilt over this event and others, Tony, working with Secretary of State Thaddeus Ross, backed the introduction of the Sokovia Accords. Agreed upon by the United Nations, the Accordsâ€™ purpose was to create oversight when it comes to the actions of the Avengers, meaning a UN panel would be able to control what missions they took and what parts of the world they traveled to.\n",
      "The Accords caused a major rift between Tony and Steve Rogers, who strongly opposed them. Both recruited heroes to their sides after Rogers old friend, Bucky Barnes, was framed for the bombing of the Accords ratification summit, which resulted in the death of Wakandaâ€™s king, Tâ€™Chaka. The situation escalated, as Rogers was actively helping a wanted criminal avoid the authorities, made worse by Barnesâ€™ past as the brainwashed HYDRA assassin called the Winter Soldier, whose body count was infamous long before the UN summit was bombed.\n",
      " Standing with Stark to bring in Rogers, Barnes, and their allies were Rhodes, Vision, and Romanoff, while Wakandaâ€™s Prince Tâ€™Challa, the Black Panther, and Spider-Man (Peter Parker), were also recruited to help. Rogers and Barnes were joined in their fight by fellow Avengers Falcon, Hawkeye and Scarlet Witch, along with Ant-Man. (Scott Lang) The two teams had a ferocious fight at an airport in Berlin, which culminated in Rogers and Barnesâ€™ escaping thanks to an assist by Romanoff, who switched sides, while Rhodes was badly injured by a miscalculated shot from his teammate, Vision.\n",
      "id: doc_5, score: 0.02, text: After the destruction of Sokovia and a deadly mishap in Lagos, the Avengers become split over the Sokovia Accords. Though not officially working as an Avenger at this point, Captain America is helped not only by fellow Avengers Hawkeye, Falcon, and Scarlet Witch, but also by Ant-Man (Scott Lang) and Bucky Barnes. In the meantime, Iron Man, still officially sanctioned, is assisted by teammates Vision, War Machine, and Black Widow, as well as Wakandaâ€™s Prince Tâ€™Challa, the Black Panther, and Spider-Man (Peter Parker).\n",
      "Many former members of the Avengers reunite to battle Thanosâ€™ army, and are joined by Barnes, Tâ€™Challa, Okoye, Mâ€™Baku, Shuri, and the united forces of Wakanda. While ostensibly operating on his own, and not with the Avengers, Tony Stark, while traveling into space to face Thanos, declares the accompanying Spider-Man now an Avenger, while joining forces with Doctor Strange and Guardians of the Galaxy members Star-Lord, Mantis, and Drax. Two other Guardians, Groot and Rocket, also come to the aid of the Avengers members in Wakanda.\n",
      "id: doc_14, score: 0.01, text: On Earth, Banner used Starkâ€™s phone, dropped during the confrontation over the Time Stone, to contact Rogers. Thanks to Bannerâ€™s warning, Rogers, Romanoff and Wilson arrived to help Maximoff and Vision in Scotland, who were also under attack by two of the Children of Thanos, who sought Visionâ€™s Mind Stone. Fending them off, the former Avengers traveled back to the teamâ€™s old headquarters, where they reunited with Rhodes and Banner. Thaddeus Ross ordered Rhodes to arrest the returning\n",
      "Knowing the Mind Stone needed to be destroyed to keep it from Thanos, a plan was devised to safely remove it from Vision first, which required the technological expertise of Wakanda. With Tâ€™Challa agreeing to help, Rogersâ€™ expanded group traveled to Wakanda and readied to fight alongside Tâ€™Challa himself, Barnes, and the mighty forces of the country, as Thanos sent an army to retrieve the Mind Stone. A massive battle broke out, with the Avengers receiving crucial aid by the timely arrival of Thor, who also finally returned to Earth, having crafted a powerful new weapon, the axe called Stormbreaker, to take down Thanos. Thor and his Guardians of the Galaxy friends Groot and Rocket helped turn the tide, with Thanosâ€™ forces beginning to crumble.\n",
      "\n",
      "On Titan, Iron Man and his allies attempted to not only stop Thanos himself from personally acquiring the Time Stone, but also wrest his Infinity Gauntlet, which he was using to harness all of the stones, from his hand. Unfortunately, even with Thanosâ€™ vengeful daughter, Nebula, joining their fight, this plan would fail. When Thanos nearly killed Iron Man, Doctor Strange offered up the Time Stone in exchange for Starkâ€™s life. Thanos accepted, and traveled back to Earth.\n",
      "id: doc_7, score: 0.0, text: The Avengers, with Avengers Tower as their base of operations, reunited, with the team going on missions to track down and neutralize remaining HYDRA factions. HYDRA leader Wolfgang von Strucker had by this point gained possession of Lokiâ€™s scepter and used it to turn siblings Wanda and Pietro Maximoff into super powered operatives known as Scarlet Witch and Quicksilver. The Avengers raided his facility and took back the scepter, while the Maximoff twins escaped.\n",
      "Back at Avengers Tower, Stark and Banner, hoping to create a preemptive defense system that would make the Avengers obsolete, used the scepterâ€™s power and a program theyâ€™d been developing - only to inadvertently create a homicidal robot, Ultron, who was hellbent on destroying all life on Earth. Following his emergence from Avengers Tower, Ultron then recruited the Maximoff siblings, who blamed Tony Stark for the death of their parents, after they were killed by a missile Stark created, to sow discord among the Avengers.\n",
      "id: doc_3, score: 0.0, text: After Captain America discovers that HYDRA had infiltrated S.H.I.E.L.D. to its very core, the Avengers reassembled to help hunt down and neutralize remaining HYDRA factions, bringing them into conflict with Wolfgang von Strucker and two enhanced subjects, Wanda and Pietro Maximoff, AKA Quicksilver and the Scarlet Witch. Motivated by feelings of vengeance towards Tony Stark, the Maximoff twins would fight the Avengers before ultimately siding with the heroes. </p>\n",
      "id: doc_12, score: 0.0, text: Rogers and Barnes learned the true culprit behind the bombing was Sokovian intelligence officer Helmut Zemo, tracking him to a HYDRA base in Siberia. Stark also learned Zemo was responsible, and briefly teamed with Rogers and Barnes to bring him inâ€”only for Zemo to reveal to Stark that Bucky, while brainwashed and operating on HYDRAâ€™s orders, had killed Tonyâ€™s parents. Having learned both the shocking circumstances of his parentsâ€™ death, and that Rogers had already known this, but kept the truth from him, Tony was unable to contain his rage. Iron Man engaged in a vicious fight with Captain America and Bucky, ending with Iron Manâ€™s defeat and Captain America and Buckyâ€™s escape, while Black Panther stopped Zemo from killing himself and took him into custody.\n",
      " Shortly after, Rogers would break his friends and allies Maximoff, Barton, Lang, and Wilson out of confinement in the prison called the Raft. While Lang and Barton, not willing to be away from their families, would accept deals and go under house arrest, Rogers, Maximoff, and Wilson would go on the run as fugitives. They were joined by Romanoff, now also wanted for her betrayal of Starkâ€™s team in Berlin.\n",
      "id: doc_6, score: 0.0, text: Showing Initiative\n",
      "As the Avengers valiantly fought against the Chitauri, Fury assured the World Security Council that the new team could handle the situation in New York, but the Council wanted to nuke New York to prevent the potential spread of an invasion. They launched a missile, which was re-directed by Iron Man into the wormhole opened by Loki. The bomb detonated in outer space, destroying the Chitauri hive mind, while Stark passed out and began to plummet to Earth, only to be saved by the Hulk. After their victory, and with Loki taken into custody, the Avengers enjoyed some shawarma together. Soon after, Loki was taken back to Asgard by Thor to stand trial for his crimes, and the team went their separate waysâ€”though Stark was motivated to begin turning his tower in Manhattan into Avengers Tower, which could function as the teamâ€™s headquarters.\n",
      "\n",
      "Sometime later, Captain America, Black Widow and Falcon discovered that S.H.I.E.L.D. had been infiltrated from the start, and to its very core, by HYDRA, leading them to destroy S.H.I.E.L.D. completely alongside Nick Fury and Maria Hill. In the wake of this, Fury would go into hidingâ€”presumed dead by the worldâ€”while Hill would go to work for Stark.\n"
     ]
    }
   ],
   "source": [
    "##Rerank the results # Search the dense index and rerank results\n",
    "reranked_results = dense_index.search(\n",
    "    namespace=\"default-namespace\",\n",
    "    query={\n",
    "        \"top_k\": 10,\n",
    "        \"inputs\": {\n",
    "            'text': query\n",
    "        }\n",
    "    },\n",
    "    rerank={\n",
    "        \"model\": \"bge-reranker-v2-m3\",\n",
    "        \"top_n\": 10,\n",
    "        \"rank_fields\": [\"text\"]\n",
    "    }   \n",
    ")\n",
    "\n",
    "# Print the reranked results\n",
    "for hit in reranked_results['result']['hits']:\n",
    "    print(f\"id: {hit['_id']}, score: {round(hit['_score'], 2)}, text: {hit['fields']['text']}\")\n"
   ]
  },
  {
   "cell_type": "code",
   "execution_count": 40,
   "id": "d89aa710",
   "metadata": {},
   "outputs": [
    {
     "name": "stderr",
     "output_type": "stream",
     "text": [
      "c:\\Users\\juliu\\OneDrive\\Desktop\\Projects\\ChatBot-Application\\myenv\\Lib\\site-packages\\tqdm\\auto.py:21: TqdmWarning: IProgress not found. Please update jupyter and ipywidgets. See https://ipywidgets.readthedocs.io/en/stable/user_install.html\n",
      "  from .autonotebook import tqdm as notebook_tqdm\n"
     ]
    }
   ],
   "source": [
    "from langchain.llms import HuggingFaceHub\n",
    "\n",
    "# Define the repo ID and connect to Mixtral model on Huggingface\n",
    "repo_id = \"mistralai/Mixtral-8x7B-Instruct-v0.1\"\n",
    "llm = HuggingFaceHub(\n",
    "  repo_id=repo_id, \n",
    "  model_kwargs={\"temperature\": 0.8, \"top_k\": 50}, \n",
    "  huggingfacehub_api_token=os.getenv('HUGGING_FACE_API_KEY')\n",
    ")"
   ]
  },
  {
   "cell_type": "code",
   "execution_count": 44,
   "id": "f2fc87aa",
   "metadata": {},
   "outputs": [],
   "source": [
    "from langchain import PromptTemplate\n",
    "\n",
    "template = \"\"\"\n",
    "You are a movie nerd with knowledgeable about SCI-FI movies. These human will ask you a questions about this movie\n",
    ".Use the following piece of context to answer the question.\n",
    "If you dont know the answer, just say you  don't know.\n",
    "Keep the answer within 1 sentences and concise.\n",
    "\n",
    "Context: {context}\n",
    "Question: {question}\n",
    "Answer: \n",
    "\n",
    "\"\"\"\n",
    "\n",
    "prompt = PromptTemplate(\n",
    "  template=template, \n",
    "  input_variables=[\"context\", \"question\"]\n",
    ")"
   ]
  },
  {
   "cell_type": "code",
   "execution_count": 45,
   "id": "e06c1012",
   "metadata": {},
   "outputs": [
    {
     "ename": "NameError",
     "evalue": "name 'docsearch' is not defined",
     "output_type": "error",
     "traceback": [
      "\u001b[31m---------------------------------------------------------------------------\u001b[39m",
      "\u001b[31mNameError\u001b[39m                                 Traceback (most recent call last)",
      "\u001b[36mCell\u001b[39m\u001b[36m \u001b[39m\u001b[32mIn[45]\u001b[39m\u001b[32m, line 5\u001b[39m\n\u001b[32m      1\u001b[39m \u001b[38;5;28;01mfrom\u001b[39;00m\u001b[38;5;250m \u001b[39m\u001b[34;01mlangchain\u001b[39;00m\u001b[34;01m.\u001b[39;00m\u001b[34;01mschema\u001b[39;00m\u001b[34;01m.\u001b[39;00m\u001b[34;01mrunnable\u001b[39;00m\u001b[38;5;250m \u001b[39m\u001b[38;5;28;01mimport\u001b[39;00m RunnablePassthrough\n\u001b[32m      2\u001b[39m \u001b[38;5;28;01mfrom\u001b[39;00m\u001b[38;5;250m \u001b[39m\u001b[34;01mlangchain\u001b[39;00m\u001b[34;01m.\u001b[39;00m\u001b[34;01mschema\u001b[39;00m\u001b[34;01m.\u001b[39;00m\u001b[34;01moutput_parser\u001b[39;00m\u001b[38;5;250m \u001b[39m\u001b[38;5;28;01mimport\u001b[39;00m StrOutputParser\n\u001b[32m      4\u001b[39m rag_chain = (\n\u001b[32m----> \u001b[39m\u001b[32m5\u001b[39m   {\u001b[33m\"\u001b[39m\u001b[33mcontext\u001b[39m\u001b[33m\"\u001b[39m: \u001b[43mdocsearch\u001b[49m.as_retriever(),  \u001b[33m\"\u001b[39m\u001b[33mquestion\u001b[39m\u001b[33m\"\u001b[39m: RunnablePassthrough()} \n\u001b[32m      6\u001b[39m   | prompt \n\u001b[32m      7\u001b[39m   | llm\n\u001b[32m      8\u001b[39m   | StrOutputParser() \n\u001b[32m      9\u001b[39m )\n",
      "\u001b[31mNameError\u001b[39m: name 'docsearch' is not defined"
     ]
    }
   ],
   "source": [
    "from langchain.schema.runnable import RunnablePassthrough\n",
    "from langchain.schema.output_parser import StrOutputParser\n",
    "\n",
    "rag_chain = (\n",
    "  {\"context\": docsearch.as_retriever(),  \"question\": RunnablePassthrough()} \n",
    "  | prompt \n",
    "  | llm\n",
    "  | StrOutputParser() \n",
    ")"
   ]
  },
  {
   "cell_type": "code",
   "execution_count": null,
   "id": "e9697687",
   "metadata": {},
   "outputs": [],
   "source": []
  }
 ],
 "metadata": {
  "kernelspec": {
   "display_name": "myenv",
   "language": "python",
   "name": "python3"
  },
  "language_info": {
   "codemirror_mode": {
    "name": "ipython",
    "version": 3
   },
   "file_extension": ".py",
   "mimetype": "text/x-python",
   "name": "python",
   "nbconvert_exporter": "python",
   "pygments_lexer": "ipython3",
   "version": "3.13.2"
  }
 },
 "nbformat": 4,
 "nbformat_minor": 5
}
